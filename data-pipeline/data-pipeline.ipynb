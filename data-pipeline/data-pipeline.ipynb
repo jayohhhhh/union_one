{
 "cells": [
  {
   "cell_type": "markdown",
   "id": "a66fdc73-9e62-4681-a636-adace9a54607",
   "metadata": {},
   "source": [
    "## Step #1: Data Ingestion\n",
    "#### Data ingestion from various sources which can include:\n",
    "- CSV Files: Data from CSV files stored locally or in cloud storage.\n",
    "- Databases: Data pulled from existing SQL or NoSQL databases.\n",
    "- Apache Airflow can automate the extraction of CSV files. \n",
    "\n",
    "## Step #2: Storage\n",
    "#### Store the ingested data as raw CSV format into database for backup and future reference.\n",
    "\n",
    "## Step #3: Data Cleaning and Preprocessing\n",
    "#### Clean, preprocess, and feature engineering the data to ensure it's in the correct format and free of errors.\n",
    "\n",
    "## Step #4: Data validation\n",
    "#### Validate data is free of missing values, columns are in the correct format, and there are no duplicate member ID's.\n",
    "\n",
    "## Step #5: Storage in SQL Database\n",
    "#### Store the cleaned and preprocessed data in a SQL database for querying and further analysis.\n",
    "\n",
    "## Step #6: Process Data in Power BI\n",
    "#### Import the data from the SQL database into Power BI (or other select BI tool) for visualization and analysis. Dashboards, queries, and reports can then be used to derive insights within BI tool. Data feeding from database into BI tool will be automated."
   ]
  },
  {
   "cell_type": "markdown",
   "id": "0a78385d-186a-48cc-acd9-3227b67cb8aa",
   "metadata": {},
   "source": [
    "![Data Pipeline](data-pipeline-flowchart.jpg)"
   ]
  }
 ],
 "metadata": {
  "kernelspec": {
   "display_name": "Python 3 (ipykernel)",
   "language": "python",
   "name": "python3"
  },
  "language_info": {
   "codemirror_mode": {
    "name": "ipython",
    "version": 3
   },
   "file_extension": ".py",
   "mimetype": "text/x-python",
   "name": "python",
   "nbconvert_exporter": "python",
   "pygments_lexer": "ipython3",
   "version": "3.11.5"
  }
 },
 "nbformat": 4,
 "nbformat_minor": 5
}
