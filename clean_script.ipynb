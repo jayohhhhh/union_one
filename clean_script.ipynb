{
 "cells": [
  {
   "cell_type": "code",
   "execution_count": 108,
   "id": "880a7a7f-56c1-4337-bef8-bdd15b1f000b",
   "metadata": {},
   "outputs": [],
   "source": [
    "import pandas as pd\n",
    "import numpy as np\n",
    "import re\n",
    "from word2number import w2n"
   ]
  },
  {
   "cell_type": "code",
   "execution_count": 109,
   "id": "c50ee102-1276-4d83-ac5c-e6264370c3dd",
   "metadata": {},
   "outputs": [],
   "source": [
    "def load_data(file_path):\n",
    "    return pd.read_csv(file_path, parse_dates=True)"
   ]
  },
  {
   "cell_type": "code",
   "execution_count": 110,
   "id": "d7ca7e6e-1d29-4117-8751-e0d9ee13b99e",
   "metadata": {},
   "outputs": [],
   "source": [
    "def handle_duplicates(df):\n",
    "    df = df.drop_duplicates(subset='member_id', keep='first')\n",
    "    return df"
   ]
  },
  {
   "cell_type": "code",
   "execution_count": 111,
   "id": "64ec530d-777d-4f07-bc0a-a792841ce433",
   "metadata": {},
   "outputs": [],
   "source": [
    "def handle_nulls(df):\n",
    "    df['first_name'] = df['first_name'].fillna('first_name')\n",
    "    return df"
   ]
  },
  {
   "cell_type": "code",
   "execution_count": 112,
   "id": "05691854-2965-4787-8f2b-a08d86277fd3",
   "metadata": {},
   "outputs": [],
   "source": [
    "def fix_date_format(df):\n",
    "    df['start_date'] = pd.to_datetime(df['start_date'])\n",
    "    return df"
   ]
  },
  {
   "cell_type": "code",
   "execution_count": 113,
   "id": "3edeaf31-3896-4bc2-aec4-be9b0fbdd52f",
   "metadata": {},
   "outputs": [],
   "source": [
    "def convert_written_to_number(text):\n",
    "    try:\n",
    "        # Check if text is numeric\n",
    "        if pd.notna(text) and re.match(r'^-?\\d+(?:,\\d+)?(?:\\.\\d+)?$', text.strip()):\n",
    "            return float(text.replace(',', ''))  # Convert numeric text to float\n",
    "\n",
    "        # Convert written numbers to actual numbers using word2number library\n",
    "        return w2n.word_to_num(text) if text != 'NaN' else None\n",
    "    \n",
    "    except ValueError:\n",
    "        return text  # Return original text if conversion fails"
   ]
  },
  {
   "cell_type": "code",
   "execution_count": 114,
   "id": "bfa27f5b-b692-49a0-a31a-f0d6800e8dae",
   "metadata": {},
   "outputs": [],
   "source": [
    "def convert_salaries(df):\n",
    "    # Convert mixed numbers and written numbers to actual numbers in 'values' column\n",
    "    df['salary'] = df['salary'].apply(convert_written_to_number)\n",
    "    return df"
   ]
  },
  {
   "cell_type": "code",
   "execution_count": 115,
   "id": "6f1fe9d9-96d0-4441-b016-5f8f32773dde",
   "metadata": {},
   "outputs": [],
   "source": [
    "def set_index(df):\n",
    "    df.set_index('member_id', inplace=True)\n",
    "    return df"
   ]
  },
  {
   "cell_type": "code",
   "execution_count": 116,
   "id": "50b02c68-9b01-4031-8b84-b843119a4bc4",
   "metadata": {},
   "outputs": [],
   "source": [
    "def save_cleaned_data(df, output_path):\n",
    "    df.to_csv(output_path, index=True)"
   ]
  },
  {
   "cell_type": "code",
   "execution_count": 117,
   "id": "4e873de1-c6f0-4075-a31c-dc06c9880f6c",
   "metadata": {},
   "outputs": [],
   "source": [
    "def main(input_path, output_path):\n",
    "    # main function to clean the data\n",
    "    df = load_data(input_path)\n",
    "    df = handle_duplicates(df)\n",
    "    df = handle_nulls(df)\n",
    "    df = fix_date_format(df)\n",
    "    df = convert_salaries(df)\n",
    "    df = set_index(df)\n",
    "    print(df.isnull().sum())\n",
    "    print(f\"start_date dtype in cleaned dataframe before saving: {df['start_date'].dtype}\")\n",
    "    save_cleaned_data(df, output_path)\n",
    "    df_verified = pd.read_csv(output_path)\n",
    "    print(f\"start_date dtype after reloading: {df_verified['start_date'].dtype}\")"
   ]
  },
  {
   "cell_type": "code",
   "execution_count": 118,
   "id": "0d8a7b7f-32ec-46b6-8309-e77b0a040fc5",
   "metadata": {},
   "outputs": [
    {
     "name": "stdout",
     "output_type": "stream",
     "text": [
      "first_name          0\n",
      "last_name           0\n",
      "address             0\n",
      "local_number        0\n",
      "salary              0\n",
      "employer            0\n",
      "start_date          0\n",
      "actively_working    0\n",
      "dtype: int64\n",
      "start_date dtype in cleaned dataframe before saving: datetime64[ns]\n",
      "start_date dtype after reloading: object\n"
     ]
    }
   ],
   "source": [
    "if __name__ == \"__main__\":\n",
    "    input_path = 'census.csv'\n",
    "    output_path = 'cleaned_census.csv'\n",
    "    main(input_path, output_path)"
   ]
  }
 ],
 "metadata": {
  "kernelspec": {
   "display_name": "Python 3 (ipykernel)",
   "language": "python",
   "name": "python3"
  },
  "language_info": {
   "codemirror_mode": {
    "name": "ipython",
    "version": 3
   },
   "file_extension": ".py",
   "mimetype": "text/x-python",
   "name": "python",
   "nbconvert_exporter": "python",
   "pygments_lexer": "ipython3",
   "version": "3.11.5"
  }
 },
 "nbformat": 4,
 "nbformat_minor": 5
}
