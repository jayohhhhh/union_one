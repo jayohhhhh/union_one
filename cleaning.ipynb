{
 "cells": [
  {
   "cell_type": "code",
   "execution_count": 437,
   "metadata": {
    "tags": []
   },
   "outputs": [],
   "source": [
    "import pandas as pd\n",
    "import numpy as np\n",
    "import re\n",
    "from word2number import w2n"
   ]
  },
  {
   "cell_type": "code",
   "execution_count": 438,
   "metadata": {
    "tags": []
   },
   "outputs": [
    {
     "data": {
      "text/html": [
       "<div>\n",
       "<style scoped>\n",
       "    .dataframe tbody tr th:only-of-type {\n",
       "        vertical-align: middle;\n",
       "    }\n",
       "\n",
       "    .dataframe tbody tr th {\n",
       "        vertical-align: top;\n",
       "    }\n",
       "\n",
       "    .dataframe thead th {\n",
       "        text-align: right;\n",
       "    }\n",
       "</style>\n",
       "<table border=\"1\" class=\"dataframe\">\n",
       "  <thead>\n",
       "    <tr style=\"text-align: right;\">\n",
       "      <th></th>\n",
       "      <th>first_name</th>\n",
       "      <th>last_name</th>\n",
       "      <th>address</th>\n",
       "      <th>local_number</th>\n",
       "      <th>salary</th>\n",
       "      <th>employer</th>\n",
       "      <th>member_id</th>\n",
       "      <th>start_date</th>\n",
       "      <th>actively_working</th>\n",
       "    </tr>\n",
       "  </thead>\n",
       "  <tbody>\n",
       "    <tr>\n",
       "      <th>0</th>\n",
       "      <td>Paul</td>\n",
       "      <td>Black</td>\n",
       "      <td>384 Willow St</td>\n",
       "      <td>103</td>\n",
       "      <td>46467</td>\n",
       "      <td>DEF Ltd</td>\n",
       "      <td>1001</td>\n",
       "      <td>2019-03-22</td>\n",
       "      <td>False</td>\n",
       "    </tr>\n",
       "    <tr>\n",
       "      <th>1</th>\n",
       "      <td>Alice</td>\n",
       "      <td>Lee</td>\n",
       "      <td>178 Fir St</td>\n",
       "      <td>105</td>\n",
       "      <td>46330</td>\n",
       "      <td>DEF Ltd</td>\n",
       "      <td>1002</td>\n",
       "      <td>2019-01-01</td>\n",
       "      <td>False</td>\n",
       "    </tr>\n",
       "    <tr>\n",
       "      <th>2</th>\n",
       "      <td>Victor</td>\n",
       "      <td>Evans</td>\n",
       "      <td>797 Maple St</td>\n",
       "      <td>101</td>\n",
       "      <td>45217</td>\n",
       "      <td>XYZ Inc</td>\n",
       "      <td>1003</td>\n",
       "      <td>2017-08-28</td>\n",
       "      <td>True</td>\n",
       "    </tr>\n",
       "    <tr>\n",
       "      <th>3</th>\n",
       "      <td>Mia</td>\n",
       "      <td>Davis</td>\n",
       "      <td>455 Maple St</td>\n",
       "      <td>103</td>\n",
       "      <td>51197</td>\n",
       "      <td>DEF Ltd</td>\n",
       "      <td>1004</td>\n",
       "      <td>2018-01-21</td>\n",
       "      <td>False</td>\n",
       "    </tr>\n",
       "    <tr>\n",
       "      <th>4</th>\n",
       "      <td>Frank</td>\n",
       "      <td>Edwards</td>\n",
       "      <td>354 Maple St</td>\n",
       "      <td>105</td>\n",
       "      <td>58269</td>\n",
       "      <td>DEF Ltd</td>\n",
       "      <td>1005</td>\n",
       "      <td>2019-10-29</td>\n",
       "      <td>True</td>\n",
       "    </tr>\n",
       "  </tbody>\n",
       "</table>\n",
       "</div>"
      ],
      "text/plain": [
       "  first_name last_name        address  local_number salary employer  \\\n",
       "0       Paul     Black  384 Willow St           103  46467  DEF Ltd   \n",
       "1      Alice       Lee     178 Fir St           105  46330  DEF Ltd   \n",
       "2     Victor     Evans   797 Maple St           101  45217  XYZ Inc   \n",
       "3        Mia     Davis   455 Maple St           103  51197  DEF Ltd   \n",
       "4      Frank   Edwards   354 Maple St           105  58269  DEF Ltd   \n",
       "\n",
       "   member_id  start_date  actively_working  \n",
       "0       1001  2019-03-22             False  \n",
       "1       1002  2019-01-01             False  \n",
       "2       1003  2017-08-28              True  \n",
       "3       1004  2018-01-21             False  \n",
       "4       1005  2019-10-29              True  "
      ]
     },
     "execution_count": 438,
     "metadata": {},
     "output_type": "execute_result"
    }
   ],
   "source": [
    "df = pd.read_csv('census.csv')\n",
    "df.head()"
   ]
  },
  {
   "cell_type": "markdown",
   "metadata": {},
   "source": [
    "### Duplicates"
   ]
  },
  {
   "cell_type": "code",
   "execution_count": 439,
   "metadata": {
    "tags": []
   },
   "outputs": [
    {
     "data": {
      "text/plain": [
       "((47705,), (50000,))"
      ]
     },
     "execution_count": 439,
     "metadata": {},
     "output_type": "execute_result"
    }
   ],
   "source": [
    "df['member_id'].drop_duplicates().shape, df['member_id'].shape"
   ]
  },
  {
   "cell_type": "code",
   "execution_count": 440,
   "metadata": {
    "tags": []
   },
   "outputs": [
    {
     "data": {
      "text/html": [
       "<div>\n",
       "<style scoped>\n",
       "    .dataframe tbody tr th:only-of-type {\n",
       "        vertical-align: middle;\n",
       "    }\n",
       "\n",
       "    .dataframe tbody tr th {\n",
       "        vertical-align: top;\n",
       "    }\n",
       "\n",
       "    .dataframe thead th {\n",
       "        text-align: right;\n",
       "    }\n",
       "</style>\n",
       "<table border=\"1\" class=\"dataframe\">\n",
       "  <thead>\n",
       "    <tr style=\"text-align: right;\">\n",
       "      <th></th>\n",
       "      <th>first_name</th>\n",
       "      <th>last_name</th>\n",
       "      <th>address</th>\n",
       "      <th>local_number</th>\n",
       "      <th>salary</th>\n",
       "      <th>employer</th>\n",
       "      <th>member_id</th>\n",
       "      <th>start_date</th>\n",
       "      <th>actively_working</th>\n",
       "    </tr>\n",
       "  </thead>\n",
       "  <tbody>\n",
       "    <tr>\n",
       "      <th>11747</th>\n",
       "      <td>Jack</td>\n",
       "      <td>Davis</td>\n",
       "      <td>817 Fir St</td>\n",
       "      <td>105</td>\n",
       "      <td>46206</td>\n",
       "      <td>DEF Ltd</td>\n",
       "      <td>12748</td>\n",
       "      <td>2018-12-12</td>\n",
       "      <td>True</td>\n",
       "    </tr>\n",
       "    <tr>\n",
       "      <th>49968</th>\n",
       "      <td>Jane</td>\n",
       "      <td>Mitchell</td>\n",
       "      <td>492 Poplar St</td>\n",
       "      <td>101</td>\n",
       "      <td>fifty thousand</td>\n",
       "      <td>DEF Ltd</td>\n",
       "      <td>12748</td>\n",
       "      <td>2018-06-18</td>\n",
       "      <td>True</td>\n",
       "    </tr>\n",
       "  </tbody>\n",
       "</table>\n",
       "</div>"
      ],
      "text/plain": [
       "      first_name last_name        address  local_number          salary  \\\n",
       "11747       Jack     Davis     817 Fir St           105           46206   \n",
       "49968       Jane  Mitchell  492 Poplar St           101  fifty thousand   \n",
       "\n",
       "      employer  member_id  start_date  actively_working  \n",
       "11747  DEF Ltd      12748  2018-12-12              True  \n",
       "49968  DEF Ltd      12748  2018-06-18              True  "
      ]
     },
     "execution_count": 440,
     "metadata": {},
     "output_type": "execute_result"
    }
   ],
   "source": [
    "df[df['member_id'] == 12748]"
   ]
  },
  {
   "cell_type": "code",
   "execution_count": 441,
   "metadata": {},
   "outputs": [],
   "source": [
    "df = df.drop_duplicates(subset='member_id', keep='first')"
   ]
  },
  {
   "cell_type": "code",
   "execution_count": 442,
   "metadata": {
    "tags": []
   },
   "outputs": [
    {
     "data": {
      "text/html": [
       "<div>\n",
       "<style scoped>\n",
       "    .dataframe tbody tr th:only-of-type {\n",
       "        vertical-align: middle;\n",
       "    }\n",
       "\n",
       "    .dataframe tbody tr th {\n",
       "        vertical-align: top;\n",
       "    }\n",
       "\n",
       "    .dataframe thead th {\n",
       "        text-align: right;\n",
       "    }\n",
       "</style>\n",
       "<table border=\"1\" class=\"dataframe\">\n",
       "  <thead>\n",
       "    <tr style=\"text-align: right;\">\n",
       "      <th></th>\n",
       "      <th>first_name</th>\n",
       "      <th>last_name</th>\n",
       "      <th>address</th>\n",
       "      <th>local_number</th>\n",
       "      <th>salary</th>\n",
       "      <th>employer</th>\n",
       "      <th>member_id</th>\n",
       "      <th>start_date</th>\n",
       "      <th>actively_working</th>\n",
       "    </tr>\n",
       "  </thead>\n",
       "  <tbody>\n",
       "  </tbody>\n",
       "</table>\n",
       "</div>"
      ],
      "text/plain": [
       "Empty DataFrame\n",
       "Columns: [first_name, last_name, address, local_number, salary, employer, member_id, start_date, actively_working]\n",
       "Index: []"
      ]
     },
     "execution_count": 442,
     "metadata": {},
     "output_type": "execute_result"
    }
   ],
   "source": [
    "duplicate_df = df[df.duplicated(subset=['member_id'], keep=False)]\n",
    "duplicate_df.sort_values(by='member_id').head(6)"
   ]
  },
  {
   "cell_type": "code",
   "execution_count": 443,
   "metadata": {
    "tags": []
   },
   "outputs": [
    {
     "data": {
      "text/plain": [
       "(2359, 9)"
      ]
     },
     "execution_count": 443,
     "metadata": {},
     "output_type": "execute_result"
    }
   ],
   "source": [
    "salaries = df[df['salary'] == 'fifty thousand']\n",
    "salaries.shape"
   ]
  },
  {
   "cell_type": "code",
   "execution_count": 444,
   "metadata": {
    "tags": []
   },
   "outputs": [
    {
     "data": {
      "text/plain": [
       "(47705, 9)"
      ]
     },
     "execution_count": 444,
     "metadata": {},
     "output_type": "execute_result"
    }
   ],
   "source": [
    "df.shape"
   ]
  },
  {
   "cell_type": "code",
   "execution_count": 445,
   "metadata": {
    "tags": []
   },
   "outputs": [
    {
     "data": {
      "text/plain": [
       "first_name          object\n",
       "last_name           object\n",
       "address             object\n",
       "local_number         int64\n",
       "salary              object\n",
       "employer            object\n",
       "member_id            int64\n",
       "start_date          object\n",
       "actively_working      bool\n",
       "dtype: object"
      ]
     },
     "execution_count": 445,
     "metadata": {},
     "output_type": "execute_result"
    }
   ],
   "source": [
    "df.dtypes"
   ]
  },
  {
   "cell_type": "markdown",
   "metadata": {},
   "source": [
    "### Nulls"
   ]
  },
  {
   "cell_type": "code",
   "execution_count": 446,
   "metadata": {
    "tags": []
   },
   "outputs": [
    {
     "data": {
      "text/plain": [
       "first_name          2496\n",
       "last_name              0\n",
       "address                0\n",
       "local_number           0\n",
       "salary                 0\n",
       "employer               0\n",
       "member_id              0\n",
       "start_date             0\n",
       "actively_working       0\n",
       "dtype: int64"
      ]
     },
     "execution_count": 446,
     "metadata": {},
     "output_type": "execute_result"
    }
   ],
   "source": [
    "# All missing values from highest to lowest\n",
    "df.isnull().sum().sort_values(ascending=False).head(20)"
   ]
  },
  {
   "cell_type": "code",
   "execution_count": 447,
   "metadata": {
    "tags": []
   },
   "outputs": [],
   "source": [
    "df['first_name'] = df['first_name'].fillna('first_name')"
   ]
  },
  {
   "cell_type": "code",
   "execution_count": 448,
   "metadata": {},
   "outputs": [
    {
     "data": {
      "text/plain": [
       "first_name          0\n",
       "last_name           0\n",
       "address             0\n",
       "local_number        0\n",
       "salary              0\n",
       "employer            0\n",
       "member_id           0\n",
       "start_date          0\n",
       "actively_working    0\n",
       "dtype: int64"
      ]
     },
     "execution_count": 448,
     "metadata": {},
     "output_type": "execute_result"
    }
   ],
   "source": [
    "df.isnull().sum().sort_values(ascending=False).head(20)"
   ]
  },
  {
   "cell_type": "code",
   "execution_count": 449,
   "metadata": {
    "tags": []
   },
   "outputs": [],
   "source": [
    "df['start_date'] = pd.to_datetime(df['start_date'])"
   ]
  },
  {
   "cell_type": "code",
   "execution_count": 450,
   "metadata": {
    "tags": []
   },
   "outputs": [],
   "source": [
    "def convert_written_to_number(text):\n",
    "    try:\n",
    "        # Check if text is numeric\n",
    "        if pd.notna(text) and re.match(r'^-?\\d+(?:,\\d+)?(?:\\.\\d+)?$', text.strip()):\n",
    "            return float(text.replace(',', ''))  # Convert numeric text to float\n",
    "\n",
    "        # Convert written numbers to actual numbers using word2number library\n",
    "        return w2n.word_to_num(text) if text != 'NaN' else None\n",
    "    \n",
    "    except ValueError:\n",
    "        return text  # Return original text if conversion fails\n",
    "\n",
    "# Convert mixed numbers and written numbers to actual numbers in 'values' column\n",
    "df['salary'] = df['salary'].apply(convert_written_to_number)"
   ]
  },
  {
   "cell_type": "code",
   "execution_count": 451,
   "metadata": {},
   "outputs": [
    {
     "data": {
      "text/plain": [
       "0"
      ]
     },
     "execution_count": 451,
     "metadata": {},
     "output_type": "execute_result"
    }
   ],
   "source": [
    "df.salary.isna().sum()"
   ]
  },
  {
   "cell_type": "code",
   "execution_count": 452,
   "metadata": {
    "tags": []
   },
   "outputs": [
    {
     "data": {
      "text/plain": [
       "dtype('float64')"
      ]
     },
     "execution_count": 452,
     "metadata": {},
     "output_type": "execute_result"
    }
   ],
   "source": [
    "df.salary.dtype"
   ]
  },
  {
   "cell_type": "code",
   "execution_count": 453,
   "metadata": {
    "tags": []
   },
   "outputs": [
    {
     "data": {
      "text/html": [
       "<div>\n",
       "<style scoped>\n",
       "    .dataframe tbody tr th:only-of-type {\n",
       "        vertical-align: middle;\n",
       "    }\n",
       "\n",
       "    .dataframe tbody tr th {\n",
       "        vertical-align: top;\n",
       "    }\n",
       "\n",
       "    .dataframe thead th {\n",
       "        text-align: right;\n",
       "    }\n",
       "</style>\n",
       "<table border=\"1\" class=\"dataframe\">\n",
       "  <thead>\n",
       "    <tr style=\"text-align: right;\">\n",
       "      <th></th>\n",
       "      <th>first_name</th>\n",
       "      <th>last_name</th>\n",
       "      <th>address</th>\n",
       "      <th>local_number</th>\n",
       "      <th>salary</th>\n",
       "      <th>employer</th>\n",
       "      <th>member_id</th>\n",
       "      <th>start_date</th>\n",
       "      <th>actively_working</th>\n",
       "    </tr>\n",
       "  </thead>\n",
       "  <tbody>\n",
       "    <tr>\n",
       "      <th>11747</th>\n",
       "      <td>Jack</td>\n",
       "      <td>Davis</td>\n",
       "      <td>817 Fir St</td>\n",
       "      <td>105</td>\n",
       "      <td>46206.0</td>\n",
       "      <td>DEF Ltd</td>\n",
       "      <td>12748</td>\n",
       "      <td>2018-12-12</td>\n",
       "      <td>True</td>\n",
       "    </tr>\n",
       "  </tbody>\n",
       "</table>\n",
       "</div>"
      ],
      "text/plain": [
       "      first_name last_name     address  local_number   salary employer  \\\n",
       "11747       Jack     Davis  817 Fir St           105  46206.0  DEF Ltd   \n",
       "\n",
       "       member_id start_date  actively_working  \n",
       "11747      12748 2018-12-12              True  "
      ]
     },
     "execution_count": 453,
     "metadata": {},
     "output_type": "execute_result"
    }
   ],
   "source": [
    "df[df['member_id'] == 12748]"
   ]
  },
  {
   "cell_type": "code",
   "execution_count": 454,
   "metadata": {},
   "outputs": [],
   "source": [
    "df.set_index('member_id', inplace=True)"
   ]
  },
  {
   "cell_type": "code",
   "execution_count": 455,
   "metadata": {
    "tags": []
   },
   "outputs": [
    {
     "data": {
      "text/plain": [
       "first_name                  object\n",
       "last_name                   object\n",
       "address                     object\n",
       "local_number                 int64\n",
       "salary                     float64\n",
       "employer                    object\n",
       "start_date          datetime64[ns]\n",
       "actively_working              bool\n",
       "dtype: object"
      ]
     },
     "execution_count": 455,
     "metadata": {},
     "output_type": "execute_result"
    }
   ],
   "source": [
    "df.dtypes"
   ]
  },
  {
   "cell_type": "code",
   "execution_count": 456,
   "metadata": {
    "tags": []
   },
   "outputs": [
    {
     "data": {
      "text/plain": [
       "first_name          0\n",
       "last_name           0\n",
       "address             0\n",
       "local_number        0\n",
       "salary              0\n",
       "employer            0\n",
       "start_date          0\n",
       "actively_working    0\n",
       "dtype: int64"
      ]
     },
     "execution_count": 456,
     "metadata": {},
     "output_type": "execute_result"
    }
   ],
   "source": [
    "df.isnull().sum()"
   ]
  },
  {
   "cell_type": "code",
   "execution_count": 457,
   "metadata": {
    "tags": []
   },
   "outputs": [
    {
     "name": "stdout",
     "output_type": "stream",
     "text": [
      "first_name                  object\n",
      "last_name                   object\n",
      "address                     object\n",
      "local_number                 int64\n",
      "salary                     float64\n",
      "employer                    object\n",
      "start_date          datetime64[ns]\n",
      "actively_working              bool\n",
      "dtype: object\n"
     ]
    }
   ],
   "source": [
    "print(df.dtypes)"
   ]
  },
  {
   "cell_type": "code",
   "execution_count": 458,
   "metadata": {},
   "outputs": [
    {
     "data": {
      "text/html": [
       "<div>\n",
       "<style scoped>\n",
       "    .dataframe tbody tr th:only-of-type {\n",
       "        vertical-align: middle;\n",
       "    }\n",
       "\n",
       "    .dataframe tbody tr th {\n",
       "        vertical-align: top;\n",
       "    }\n",
       "\n",
       "    .dataframe thead th {\n",
       "        text-align: right;\n",
       "    }\n",
       "</style>\n",
       "<table border=\"1\" class=\"dataframe\">\n",
       "  <thead>\n",
       "    <tr style=\"text-align: right;\">\n",
       "      <th></th>\n",
       "      <th>first_name</th>\n",
       "      <th>last_name</th>\n",
       "      <th>address</th>\n",
       "      <th>local_number</th>\n",
       "      <th>salary</th>\n",
       "      <th>employer</th>\n",
       "      <th>start_date</th>\n",
       "      <th>actively_working</th>\n",
       "    </tr>\n",
       "    <tr>\n",
       "      <th>member_id</th>\n",
       "      <th></th>\n",
       "      <th></th>\n",
       "      <th></th>\n",
       "      <th></th>\n",
       "      <th></th>\n",
       "      <th></th>\n",
       "      <th></th>\n",
       "      <th></th>\n",
       "    </tr>\n",
       "  </thead>\n",
       "  <tbody>\n",
       "    <tr>\n",
       "      <th>1001</th>\n",
       "      <td>Paul</td>\n",
       "      <td>Black</td>\n",
       "      <td>384 Willow St</td>\n",
       "      <td>103</td>\n",
       "      <td>46467.0</td>\n",
       "      <td>DEF Ltd</td>\n",
       "      <td>2019-03-22</td>\n",
       "      <td>False</td>\n",
       "    </tr>\n",
       "    <tr>\n",
       "      <th>1002</th>\n",
       "      <td>Alice</td>\n",
       "      <td>Lee</td>\n",
       "      <td>178 Fir St</td>\n",
       "      <td>105</td>\n",
       "      <td>46330.0</td>\n",
       "      <td>DEF Ltd</td>\n",
       "      <td>2019-01-01</td>\n",
       "      <td>False</td>\n",
       "    </tr>\n",
       "    <tr>\n",
       "      <th>1003</th>\n",
       "      <td>Victor</td>\n",
       "      <td>Evans</td>\n",
       "      <td>797 Maple St</td>\n",
       "      <td>101</td>\n",
       "      <td>45217.0</td>\n",
       "      <td>XYZ Inc</td>\n",
       "      <td>2017-08-28</td>\n",
       "      <td>True</td>\n",
       "    </tr>\n",
       "    <tr>\n",
       "      <th>1004</th>\n",
       "      <td>Mia</td>\n",
       "      <td>Davis</td>\n",
       "      <td>455 Maple St</td>\n",
       "      <td>103</td>\n",
       "      <td>51197.0</td>\n",
       "      <td>DEF Ltd</td>\n",
       "      <td>2018-01-21</td>\n",
       "      <td>False</td>\n",
       "    </tr>\n",
       "    <tr>\n",
       "      <th>1005</th>\n",
       "      <td>Frank</td>\n",
       "      <td>Edwards</td>\n",
       "      <td>354 Maple St</td>\n",
       "      <td>105</td>\n",
       "      <td>58269.0</td>\n",
       "      <td>DEF Ltd</td>\n",
       "      <td>2019-10-29</td>\n",
       "      <td>True</td>\n",
       "    </tr>\n",
       "  </tbody>\n",
       "</table>\n",
       "</div>"
      ],
      "text/plain": [
       "          first_name last_name        address  local_number   salary employer  \\\n",
       "member_id                                                                       \n",
       "1001            Paul     Black  384 Willow St           103  46467.0  DEF Ltd   \n",
       "1002           Alice       Lee     178 Fir St           105  46330.0  DEF Ltd   \n",
       "1003          Victor     Evans   797 Maple St           101  45217.0  XYZ Inc   \n",
       "1004             Mia     Davis   455 Maple St           103  51197.0  DEF Ltd   \n",
       "1005           Frank   Edwards   354 Maple St           105  58269.0  DEF Ltd   \n",
       "\n",
       "          start_date  actively_working  \n",
       "member_id                               \n",
       "1001      2019-03-22             False  \n",
       "1002      2019-01-01             False  \n",
       "1003      2017-08-28              True  \n",
       "1004      2018-01-21             False  \n",
       "1005      2019-10-29              True  "
      ]
     },
     "execution_count": 458,
     "metadata": {},
     "output_type": "execute_result"
    }
   ],
   "source": [
    "df.head()"
   ]
  },
  {
   "cell_type": "code",
   "execution_count": 459,
   "metadata": {
    "tags": []
   },
   "outputs": [],
   "source": [
    "df.to_csv('cleaned_census.csv', index=True)"
   ]
  },
  {
   "cell_type": "code",
   "execution_count": 460,
   "metadata": {
    "tags": []
   },
   "outputs": [
    {
     "data": {
      "text/plain": [
       "first_name          0\n",
       "last_name           0\n",
       "address             0\n",
       "local_number        0\n",
       "salary              0\n",
       "employer            0\n",
       "start_date          0\n",
       "actively_working    0\n",
       "dtype: int64"
      ]
     },
     "execution_count": 460,
     "metadata": {},
     "output_type": "execute_result"
    }
   ],
   "source": [
    "df.isnull().sum().sort_values(ascending=False).head(20)"
   ]
  },
  {
   "cell_type": "code",
   "execution_count": 461,
   "metadata": {
    "tags": []
   },
   "outputs": [
    {
     "data": {
      "text/plain": [
       "member_id             int64\n",
       "first_name           object\n",
       "last_name            object\n",
       "address              object\n",
       "local_number          int64\n",
       "salary              float64\n",
       "employer             object\n",
       "start_date           object\n",
       "actively_working       bool\n",
       "dtype: object"
      ]
     },
     "execution_count": 461,
     "metadata": {},
     "output_type": "execute_result"
    }
   ],
   "source": [
    "df2 = pd.read_csv('cleaned_census.csv')\n",
    "df2.dtypes"
   ]
  },
  {
   "cell_type": "code",
   "execution_count": 462,
   "metadata": {
    "tags": []
   },
   "outputs": [
    {
     "data": {
      "text/plain": [
       "member_id           0\n",
       "first_name          0\n",
       "last_name           0\n",
       "address             0\n",
       "local_number        0\n",
       "salary              0\n",
       "employer            0\n",
       "start_date          0\n",
       "actively_working    0\n",
       "dtype: int64"
      ]
     },
     "execution_count": 462,
     "metadata": {},
     "output_type": "execute_result"
    }
   ],
   "source": [
    "df2.isnull().sum()"
   ]
  },
  {
   "cell_type": "code",
   "execution_count": 464,
   "metadata": {
    "tags": []
   },
   "outputs": [
    {
     "data": {
      "text/html": [
       "<div>\n",
       "<style scoped>\n",
       "    .dataframe tbody tr th:only-of-type {\n",
       "        vertical-align: middle;\n",
       "    }\n",
       "\n",
       "    .dataframe tbody tr th {\n",
       "        vertical-align: top;\n",
       "    }\n",
       "\n",
       "    .dataframe thead th {\n",
       "        text-align: right;\n",
       "    }\n",
       "</style>\n",
       "<table border=\"1\" class=\"dataframe\">\n",
       "  <thead>\n",
       "    <tr style=\"text-align: right;\">\n",
       "      <th></th>\n",
       "      <th>member_id</th>\n",
       "      <th>first_name</th>\n",
       "      <th>last_name</th>\n",
       "      <th>address</th>\n",
       "      <th>local_number</th>\n",
       "      <th>salary</th>\n",
       "      <th>employer</th>\n",
       "      <th>start_date</th>\n",
       "      <th>actively_working</th>\n",
       "    </tr>\n",
       "  </thead>\n",
       "  <tbody>\n",
       "    <tr>\n",
       "      <th>11206</th>\n",
       "      <td>12748</td>\n",
       "      <td>Jack</td>\n",
       "      <td>Davis</td>\n",
       "      <td>817 Fir St</td>\n",
       "      <td>105</td>\n",
       "      <td>46206.0</td>\n",
       "      <td>DEF Ltd</td>\n",
       "      <td>2018-12-12</td>\n",
       "      <td>True</td>\n",
       "    </tr>\n",
       "  </tbody>\n",
       "</table>\n",
       "</div>"
      ],
      "text/plain": [
       "       member_id first_name last_name     address  local_number   salary  \\\n",
       "11206      12748       Jack     Davis  817 Fir St           105  46206.0   \n",
       "\n",
       "      employer  start_date  actively_working  \n",
       "11206  DEF Ltd  2018-12-12              True  "
      ]
     },
     "execution_count": 464,
     "metadata": {},
     "output_type": "execute_result"
    }
   ],
   "source": [
    "df2[df2['member_id'] == 12748]"
   ]
  }
 ],
 "metadata": {
  "kernelspec": {
   "display_name": "Python 3 (ipykernel)",
   "language": "python",
   "name": "python3"
  },
  "language_info": {
   "codemirror_mode": {
    "name": "ipython",
    "version": 3
   },
   "file_extension": ".py",
   "mimetype": "text/x-python",
   "name": "python",
   "nbconvert_exporter": "python",
   "pygments_lexer": "ipython3",
   "version": "3.11.5"
  }
 },
 "nbformat": 4,
 "nbformat_minor": 4
}
