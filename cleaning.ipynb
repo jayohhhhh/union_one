{
 "cells": [
  {
   "cell_type": "code",
   "execution_count": 162,
   "id": "880a7a7f-56c1-4337-bef8-bdd15b1f000b",
   "metadata": {},
   "outputs": [],
   "source": [
    "import pandas as pd\n",
    "import numpy as np\n",
    "import re\n",
    "from word2number import w2n\n",
    "from datetime import datetime"
   ]
  },
  {
   "cell_type": "code",
   "execution_count": 163,
   "id": "c50ee102-1276-4d83-ac5c-e6264370c3dd",
   "metadata": {},
   "outputs": [],
   "source": [
    "def load_data(file_path):\n",
    "    return pd.read_csv(file_path)"
   ]
  },
  {
   "cell_type": "code",
   "execution_count": 164,
   "id": "d7ca7e6e-1d29-4117-8751-e0d9ee13b99e",
   "metadata": {},
   "outputs": [],
   "source": [
    "def handle_duplicates(df):\n",
    "    df = df.drop_duplicates(subset='member_id', keep='first')\n",
    "    return df"
   ]
  },
  {
   "cell_type": "code",
   "execution_count": 165,
   "id": "64ec530d-777d-4f07-bc0a-a792841ce433",
   "metadata": {},
   "outputs": [],
   "source": [
    "def handle_nulls(df):\n",
    "    df['first_name'] = df['first_name'].fillna('first_name')\n",
    "    return df"
   ]
  },
  {
   "cell_type": "code",
   "execution_count": 166,
   "id": "05691854-2965-4787-8f2b-a08d86277fd3",
   "metadata": {},
   "outputs": [],
   "source": [
    "def fix_date_format(df):\n",
    "    df['start_date'] = pd.to_datetime(df['start_date'])\n",
    "    return df"
   ]
  },
  {
   "cell_type": "code",
   "execution_count": 167,
   "id": "3edeaf31-3896-4bc2-aec4-be9b0fbdd52f",
   "metadata": {},
   "outputs": [],
   "source": [
    "def convert_written_to_number(text):\n",
    "    try:\n",
    "        # Check if text is numeric\n",
    "        if pd.notna(text) and re.match(r'^-?\\d+(?:,\\d+)?(?:\\.\\d+)?$', text.strip()):\n",
    "            return float(text.replace(',', ''))  # Convert numeric text to float\n",
    "\n",
    "        # Convert written numbers to actual numbers using word2number library\n",
    "        return w2n.word_to_num(text) if text != 'NaN' else None\n",
    "    \n",
    "    except ValueError:\n",
    "        return text  # Return original text if conversion fails"
   ]
  },
  {
   "cell_type": "code",
   "execution_count": 168,
   "id": "bfa27f5b-b692-49a0-a31a-f0d6800e8dae",
   "metadata": {},
   "outputs": [],
   "source": [
    "def convert_salaries(df):\n",
    "    # Convert mixed numbers and written numbers to actual numbers in 'values' column\n",
    "    df['salary'] = df['salary'].apply(convert_written_to_number)\n",
    "    return df"
   ]
  },
  {
   "cell_type": "code",
   "execution_count": 169,
   "id": "18861019-6702-4685-9e44-4651c8d9efe6",
   "metadata": {},
   "outputs": [],
   "source": [
    "def calculate_length_worked(df, current_date=None): # Create a column showing length of years worked\n",
    "    if current_date is None:\n",
    "        current_date = pd.to_datetime(datetime.now())\n",
    "    # Calculate length worked in years\n",
    "    df['length_worked_yrs'] = (current_date - pd.to_datetime(df['start_date'])).dt.days / 365.25\n",
    "    \n",
    "    # Handle cases where 'start_date' might be NaT (Not a Time)\n",
    "    df['length_worked_yrs'] = df['length_worked_yrs'].fillna(0)\n",
    "    \n",
    "    return df"
   ]
  },
  {
   "cell_type": "code",
   "execution_count": 170,
   "id": "6f1fe9d9-96d0-4441-b016-5f8f32773dde",
   "metadata": {},
   "outputs": [],
   "source": [
    "def set_index(df):\n",
    "    df.set_index('member_id', inplace=True)\n",
    "    return df"
   ]
  },
  {
   "cell_type": "code",
   "execution_count": 171,
   "id": "21f7c79b-e9c1-4c7f-8ed0-ad880ba929b4",
   "metadata": {},
   "outputs": [],
   "source": [
    "def remove_salary_placeholders(df):\n",
    "    # Remove placeholder salaries to avoid skewed statistics in salary analysis.\n",
    "    df = df[df['salary'] != 50000]\n",
    "    return df"
   ]
  },
  {
   "cell_type": "code",
   "execution_count": 172,
   "id": "50b02c68-9b01-4031-8b84-b843119a4bc4",
   "metadata": {},
   "outputs": [],
   "source": [
    "def save_cleaned_data(df, output_path):\n",
    "    df.to_csv(output_path, index=True)"
   ]
  },
  {
   "cell_type": "code",
   "execution_count": 173,
   "id": "4e873de1-c6f0-4075-a31c-dc06c9880f6c",
   "metadata": {},
   "outputs": [],
   "source": [
    "def main(input_path, output_path):\n",
    "    # main function to clean the data\n",
    "    df = load_data(input_path)\n",
    "    df = handle_duplicates(df)\n",
    "    df = handle_nulls(df)\n",
    "    df = fix_date_format(df)\n",
    "    df = convert_salaries(df)\n",
    "    df = calculate_length_worked(df)\n",
    "    df = set_index(df)\n",
    "    df = remove_salary_placeholders(df)\n",
    "    save_cleaned_data(df, output_path)"
   ]
  },
  {
   "cell_type": "code",
   "execution_count": 174,
   "id": "0d8a7b7f-32ec-46b6-8309-e77b0a040fc5",
   "metadata": {
    "tags": []
   },
   "outputs": [],
   "source": [
    "if __name__ == \"__main__\":\n",
    "    input_path = 'census.csv'\n",
    "    output_path = 'cleaned_census.csv'\n",
    "    main(input_path, output_path)"
   ]
  }
 ],
 "metadata": {
  "kernelspec": {
   "display_name": "Python 3 (ipykernel)",
   "language": "python",
   "name": "python3"
  },
  "language_info": {
   "codemirror_mode": {
    "name": "ipython",
    "version": 3
   },
   "file_extension": ".py",
   "mimetype": "text/x-python",
   "name": "python",
   "nbconvert_exporter": "python",
   "pygments_lexer": "ipython3",
   "version": "3.11.5"
  }
 },
 "nbformat": 4,
 "nbformat_minor": 5
}
