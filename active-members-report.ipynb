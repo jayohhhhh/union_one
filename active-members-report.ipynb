{
 "cells": [
  {
   "cell_type": "code",
   "execution_count": 2,
   "id": "f92dfc96-c3c3-4bc9-98d3-d4a7fce9b4e9",
   "metadata": {
    "tags": []
   },
   "outputs": [],
   "source": [
    "import pandas as pd\n",
    "\n",
    "df = pd.read_csv('cleaned_census.csv')\n",
    "\n",
    "# Group actively working column by employer & create a column of percentages\n",
    "grouped = df.groupby('employer')['actively_working'].value_counts().unstack()\n",
    "grouped['active_%'] = grouped[True] / (grouped[True] + grouped[False]) * 100\n",
    "\n",
    "# Rename columns for clarity\n",
    "grouped.columns = ['actively_working', 'not_working', 'active_%']\n",
    "\n",
    "# Export report to excel\n",
    "grouped.to_excel('reports/active-members-report.xlsx', index=True)"
   ]
  },
  {
   "cell_type": "code",
   "execution_count": 3,
   "id": "433130b8-f78f-4225-85a5-d0f58470e578",
   "metadata": {
    "tags": []
   },
   "outputs": [
    {
     "data": {
      "text/html": [
       "<div>\n",
       "<style scoped>\n",
       "    .dataframe tbody tr th:only-of-type {\n",
       "        vertical-align: middle;\n",
       "    }\n",
       "\n",
       "    .dataframe tbody tr th {\n",
       "        vertical-align: top;\n",
       "    }\n",
       "\n",
       "    .dataframe thead th {\n",
       "        text-align: right;\n",
       "    }\n",
       "</style>\n",
       "<table border=\"1\" class=\"dataframe\">\n",
       "  <thead>\n",
       "    <tr style=\"text-align: right;\">\n",
       "      <th></th>\n",
       "      <th>actively_working</th>\n",
       "      <th>not_working</th>\n",
       "      <th>active_%</th>\n",
       "    </tr>\n",
       "    <tr>\n",
       "      <th>employer</th>\n",
       "      <th></th>\n",
       "      <th></th>\n",
       "      <th></th>\n",
       "    </tr>\n",
       "  </thead>\n",
       "  <tbody>\n",
       "    <tr>\n",
       "      <th>ABC Corp</th>\n",
       "      <td>7533</td>\n",
       "      <td>7503</td>\n",
       "      <td>49.900239</td>\n",
       "    </tr>\n",
       "    <tr>\n",
       "      <th>DEF Ltd</th>\n",
       "      <td>7620</td>\n",
       "      <td>7460</td>\n",
       "      <td>49.469496</td>\n",
       "    </tr>\n",
       "    <tr>\n",
       "      <th>XYZ Inc</th>\n",
       "      <td>7723</td>\n",
       "      <td>7503</td>\n",
       "      <td>49.277552</td>\n",
       "    </tr>\n",
       "  </tbody>\n",
       "</table>\n",
       "</div>"
      ],
      "text/plain": [
       "          actively_working  not_working   active_%\n",
       "employer                                          \n",
       "ABC Corp              7533         7503  49.900239\n",
       "DEF Ltd               7620         7460  49.469496\n",
       "XYZ Inc               7723         7503  49.277552"
      ]
     },
     "execution_count": 3,
     "metadata": {},
     "output_type": "execute_result"
    }
   ],
   "source": [
    "# Active members report\n",
    "grouped"
   ]
  }
 ],
 "metadata": {
  "kernelspec": {
   "display_name": "Python 3 (ipykernel)",
   "language": "python",
   "name": "python3"
  },
  "language_info": {
   "codemirror_mode": {
    "name": "ipython",
    "version": 3
   },
   "file_extension": ".py",
   "mimetype": "text/x-python",
   "name": "python",
   "nbconvert_exporter": "python",
   "pygments_lexer": "ipython3",
   "version": "3.11.5"
  }
 },
 "nbformat": 4,
 "nbformat_minor": 5
}
