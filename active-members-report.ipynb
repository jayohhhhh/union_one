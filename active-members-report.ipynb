{
 "cells": [
  {
   "cell_type": "code",
   "execution_count": null,
   "id": "f92dfc96-c3c3-4bc9-98d3-d4a7fce9b4e9",
   "metadata": {
    "tags": []
   },
   "outputs": [],
   "source": [
    "import pandas as pd\n",
    "\n",
    "df = pd.read_csv('cleaned_census.csv')\n",
    "\n",
    "grouped = df.groupby('employer')['actively_working'].value_counts().unstack()\n",
    "grouped['active_%'] = grouped[True] / (grouped[True] + grouped[False]) * 100\n",
    "# Rename columns for clarity\n",
    "grouped.columns = ['actively_working', 'not_working', 'active_%']\n",
    "\n",
    "# Export report to excel\n",
    "grouped.to_excel('active-members-report.xlsx', index=True)"
   ]
  }
 ],
 "metadata": {
  "kernelspec": {
   "display_name": "Python 3 (ipykernel)",
   "language": "python",
   "name": "python3"
  },
  "language_info": {
   "codemirror_mode": {
    "name": "ipython",
    "version": 3
   },
   "file_extension": ".py",
   "mimetype": "text/x-python",
   "name": "python",
   "nbconvert_exporter": "python",
   "pygments_lexer": "ipython3",
   "version": "3.11.5"
  }
 },
 "nbformat": 4,
 "nbformat_minor": 5
}
