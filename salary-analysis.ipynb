{
 "cells": [
  {
   "cell_type": "code",
   "execution_count": 1,
   "id": "2bb4e035-cd34-49e7-8979-ccb73b3db3d7",
   "metadata": {
    "tags": []
   },
   "outputs": [],
   "source": [
    "import pandas as pd\n",
    "\n",
    "df = pd.read_csv('cleaned_census.csv')\n",
    "\n",
    "# Group by 'local_number' and calculate the average, median, and standard deviation of salaries\n",
    "grouped = df.groupby('local_number')['salary'].agg(['mean', 'median', 'std']).reset_index()\n",
    "\n",
    "# Rename the columns for clarity\n",
    "grouped.columns = ['local_number', 'average_salary', 'median_salary', 'salary_std']\n",
    "\n",
    "# Export report to Excel\n",
    "grouped.to_excel('salary-analysis.xlsx', index=False)"
   ]
  }
 ],
 "metadata": {
  "kernelspec": {
   "display_name": "Python 3 (ipykernel)",
   "language": "python",
   "name": "python3"
  },
  "language_info": {
   "codemirror_mode": {
    "name": "ipython",
    "version": 3
   },
   "file_extension": ".py",
   "mimetype": "text/x-python",
   "name": "python",
   "nbconvert_exporter": "python",
   "pygments_lexer": "ipython3",
   "version": "3.11.5"
  }
 },
 "nbformat": 4,
 "nbformat_minor": 5
}
