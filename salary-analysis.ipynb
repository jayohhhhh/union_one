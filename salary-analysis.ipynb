{
 "cells": [
  {
   "cell_type": "markdown",
   "id": "9fdffd29-84e0-4241-9eab-f77d0d193496",
   "metadata": {},
   "source": [
    "## Salary Analysis"
   ]
  },
  {
   "cell_type": "markdown",
   "id": "9ecaa9a1-5e47-47e7-b70a-c0e95a90454e",
   "metadata": {},
   "source": [
    "There was a discrepancy with the salaries collected where \"50,000\" was entered as a default placeholder where salary was unknown. (See eda notebook for more details). These placeholders were removed to avoid seeing skewed statistics in this report."
   ]
  },
  {
   "cell_type": "code",
   "execution_count": 1,
   "id": "2bb4e035-cd34-49e7-8979-ccb73b3db3d7",
   "metadata": {
    "tags": []
   },
   "outputs": [],
   "source": [
    "import pandas as pd\n",
    "\n",
    "df = pd.read_csv('cleaned_census.csv')\n",
    "\n",
    "# Group by 'local_number' and calculate the average, median, and standard deviation of salaries\n",
    "grouped = df.groupby('local_number')['salary'].agg(['mean', 'median', 'std']).reset_index()\n",
    "\n",
    "# Rename the columns for clarity\n",
    "grouped.columns = ['local_number', 'average_salary', 'median_salary', 'salary_std']\n",
    "\n",
    "# Export report to Excel\n",
    "grouped.to_excel('reports/salary-analysis.xlsx', index=False)"
   ]
  }
 ],
 "metadata": {
  "kernelspec": {
   "display_name": "Python 3 (ipykernel)",
   "language": "python",
   "name": "python3"
  },
  "language_info": {
   "codemirror_mode": {
    "name": "ipython",
    "version": 3
   },
   "file_extension": ".py",
   "mimetype": "text/x-python",
   "name": "python",
   "nbconvert_exporter": "python",
   "pygments_lexer": "ipython3",
   "version": "3.11.5"
  }
 },
 "nbformat": 4,
 "nbformat_minor": 5
}
