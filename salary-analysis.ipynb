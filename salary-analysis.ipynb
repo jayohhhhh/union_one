{
 "cells": [
  {
   "cell_type": "markdown",
   "id": "9fdffd29-84e0-4241-9eab-f77d0d193496",
   "metadata": {},
   "source": [
    "## Salary Analysis"
   ]
  },
  {
   "cell_type": "markdown",
   "id": "9ecaa9a1-5e47-47e7-b70a-c0e95a90454e",
   "metadata": {},
   "source": [
    "There was a discrepancy with the salary entry of \"$50,000\". The unnatural distribution of this value in comparison with other values indicates it could have been entered as a default placeholder where salary was unknown. (See [Exploratory Data Analysis & Cleaning](eda.ipynb) for more details). These placeholders were removed to avoid seeing skewed statistics in this report."
   ]
  },
  {
   "cell_type": "code",
   "execution_count": 3,
   "id": "2bb4e035-cd34-49e7-8979-ccb73b3db3d7",
   "metadata": {
    "tags": []
   },
   "outputs": [],
   "source": [
    "import pandas as pd\n",
    "\n",
    "df = pd.read_csv('cleaned_census.csv')\n",
    "\n",
    "# Group by 'local_number' and calculate the average, median, and standard deviation of salaries\n",
    "grouped = df.groupby('local_number')['salary'].agg(['mean', 'median', 'std']).reset_index()\n",
    "\n",
    "# Rename the columns for clarity\n",
    "grouped.columns = ['local_number', 'average_salary', 'median_salary', 'salary_std']\n",
    "\n",
    "# Export report to Excel\n",
    "grouped.to_excel('reports/salary-analysis.xlsx', index=False)"
   ]
  },
  {
   "cell_type": "code",
   "execution_count": 4,
   "id": "ea694d66-894e-4924-825a-bdf02a482557",
   "metadata": {
    "tags": []
   },
   "outputs": [
    {
     "data": {
      "text/html": [
       "<div>\n",
       "<style scoped>\n",
       "    .dataframe tbody tr th:only-of-type {\n",
       "        vertical-align: middle;\n",
       "    }\n",
       "\n",
       "    .dataframe tbody tr th {\n",
       "        vertical-align: top;\n",
       "    }\n",
       "\n",
       "    .dataframe thead th {\n",
       "        text-align: right;\n",
       "    }\n",
       "</style>\n",
       "<table border=\"1\" class=\"dataframe\">\n",
       "  <thead>\n",
       "    <tr style=\"text-align: right;\">\n",
       "      <th></th>\n",
       "      <th>local_number</th>\n",
       "      <th>average_salary</th>\n",
       "      <th>median_salary</th>\n",
       "      <th>salary_std</th>\n",
       "    </tr>\n",
       "  </thead>\n",
       "  <tbody>\n",
       "    <tr>\n",
       "      <th>0</th>\n",
       "      <td>101</td>\n",
       "      <td>55009.390007</td>\n",
       "      <td>55031.0</td>\n",
       "      <td>5777.390194</td>\n",
       "    </tr>\n",
       "    <tr>\n",
       "      <th>1</th>\n",
       "      <td>102</td>\n",
       "      <td>55053.949273</td>\n",
       "      <td>55136.0</td>\n",
       "      <td>5794.463771</td>\n",
       "    </tr>\n",
       "    <tr>\n",
       "      <th>2</th>\n",
       "      <td>103</td>\n",
       "      <td>54986.779822</td>\n",
       "      <td>54972.0</td>\n",
       "      <td>5741.726374</td>\n",
       "    </tr>\n",
       "    <tr>\n",
       "      <th>3</th>\n",
       "      <td>104</td>\n",
       "      <td>54949.277320</td>\n",
       "      <td>54861.0</td>\n",
       "      <td>5797.901854</td>\n",
       "    </tr>\n",
       "    <tr>\n",
       "      <th>4</th>\n",
       "      <td>105</td>\n",
       "      <td>54955.906142</td>\n",
       "      <td>54949.0</td>\n",
       "      <td>5772.857040</td>\n",
       "    </tr>\n",
       "  </tbody>\n",
       "</table>\n",
       "</div>"
      ],
      "text/plain": [
       "   local_number  average_salary  median_salary   salary_std\n",
       "0           101    55009.390007        55031.0  5777.390194\n",
       "1           102    55053.949273        55136.0  5794.463771\n",
       "2           103    54986.779822        54972.0  5741.726374\n",
       "3           104    54949.277320        54861.0  5797.901854\n",
       "4           105    54955.906142        54949.0  5772.857040"
      ]
     },
     "execution_count": 4,
     "metadata": {},
     "output_type": "execute_result"
    }
   ],
   "source": [
    "# Salary analysis report\n",
    "grouped"
   ]
  }
 ],
 "metadata": {
  "kernelspec": {
   "display_name": "Python 3 (ipykernel)",
   "language": "python",
   "name": "python3"
  },
  "language_info": {
   "codemirror_mode": {
    "name": "ipython",
    "version": 3
   },
   "file_extension": ".py",
   "mimetype": "text/x-python",
   "name": "python",
   "nbconvert_exporter": "python",
   "pygments_lexer": "ipython3",
   "version": "3.11.5"
  }
 },
 "nbformat": 4,
 "nbformat_minor": 5
}
